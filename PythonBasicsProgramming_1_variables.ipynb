{
 "cells": [
  {
   "cell_type": "markdown",
   "id": "cef51aed",
   "metadata": {},
   "source": [
    "#1.\tWrite a Python program to print \"Hello Python\"?\n",
    "\n",
    "#2.\tWrite a Python program to do arithmetical operations addition and division.?\n",
    "\n",
    "#3.\tWrite a Python program to find the area of a triangle?\n",
    "\n",
    "#4.\tWrite a Python program to swap two variables?\n",
    "\n",
    "#5.\tWrite a Python program to generate a random number?"
   ]
  },
  {
   "cell_type": "code",
   "execution_count": 1,
   "id": "dfb2d77c",
   "metadata": {},
   "outputs": [
    {
     "name": "stdout",
     "output_type": "stream",
     "text": [
      "Hello Python\n"
     ]
    }
   ],
   "source": [
    "##\n",
    "## 1) Write a python program to print \"Hello Pyton\"\n",
    "##\n",
    "print(\"Hello Python\")"
   ]
  },
  {
   "cell_type": "code",
   "execution_count": 3,
   "id": "ada015ef",
   "metadata": {},
   "outputs": [
    {
     "name": "stdout",
     "output_type": "stream",
     "text": [
      "Addition of variables var1 and var2 is 30\n",
      "Division of variables var2 by var1 is 2.0\n"
     ]
    }
   ],
   "source": [
    "##\n",
    "## 2) Write a python program to do arithmetical operations addition and division\n",
    "##\n",
    "var1 = 10\n",
    "var2 = 20\n",
    "\n",
    "add = var1 + var2\n",
    "div = var2/var1\n",
    "print(\"Addition of variables var1 and var2 is\",add)\n",
    "print(\"Division of variables var2 by var1 is\",div)"
   ]
  },
  {
   "cell_type": "code",
   "execution_count": 7,
   "id": "7ca9b6e5",
   "metadata": {},
   "outputs": [
    {
     "name": "stdout",
     "output_type": "stream",
     "text": [
      "The area of the triangle with base = 10, height = 20 is 100.0\n"
     ]
    }
   ],
   "source": [
    "##\n",
    "## 3) Write a program to find the area of triange\n",
    "##\n",
    "base = 10\n",
    "height = 20\n",
    "area = 0.5*base*height\n",
    "print(f\"The area of the triangle with base = {base}, height = {height} is {area}\")"
   ]
  },
  {
   "cell_type": "code",
   "execution_count": 8,
   "id": "54aa5871",
   "metadata": {},
   "outputs": [
    {
     "name": "stdout",
     "output_type": "stream",
     "text": [
      "The variables before swapping are var1=10 and var2=20\n",
      "The variables after swapping are var1=20 and var2=10\n"
     ]
    }
   ],
   "source": [
    "##\n",
    "## 4) Write a program to swap two variables\n",
    "##\n",
    "var1 = 10\n",
    "var2 = 20\n",
    "print(f\"The variables before swapping are var1={var1} and var2={var2}\")\n",
    "\n",
    "temp = var1\n",
    "var1 = var2\n",
    "var2 = temp\n",
    "print(f\"The variables after swapping are var1={var1} and var2={var2}\")"
   ]
  },
  {
   "cell_type": "code",
   "execution_count": 12,
   "id": "3dbacd67",
   "metadata": {},
   "outputs": [
    {
     "name": "stdout",
     "output_type": "stream",
     "text": [
      "0.20446801813776327\n"
     ]
    }
   ],
   "source": [
    "##\n",
    "## 5) Write a Python program to generate a random number?\n",
    "##\n",
    "import random\n",
    "num = random.random()\n",
    "print(num)"
   ]
  }
 ],
 "metadata": {
  "kernelspec": {
   "display_name": "Python 3",
   "language": "python",
   "name": "python3"
  },
  "language_info": {
   "codemirror_mode": {
    "name": "ipython",
    "version": 3
   },
   "file_extension": ".py",
   "mimetype": "text/x-python",
   "name": "python",
   "nbconvert_exporter": "python",
   "pygments_lexer": "ipython3",
   "version": "3.8.8"
  }
 },
 "nbformat": 4,
 "nbformat_minor": 5
}
